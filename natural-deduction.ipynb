{
 "cells": [
  {
   "cell_type": "code",
   "execution_count": 1,
   "metadata": {},
   "outputs": [],
   "source": [
    "from natural_deduction import dict_to_latex, Terminal, Inference\n",
    "from pyquent import Pyquent\n",
    "from IPython.display import display, Math\n",
    "from utils import LATEX_FONT_SIZE\n",
    "\n",
    "pyquent = Pyquent()\n",
    "\n",
    "def parse_to_latex(s):\n",
    "    if not s:\n",
    "        return s\n",
    "\n",
    "    parse_tree = pyquent.parse(s)\n",
    "    output = pyquent.transform(parse_tree)\n",
    "    return output.to_latex()\n",
    "\n",
    "def math(s, size=7):\n",
    "    if isinstance(s, dict | Terminal | Inference):\n",
    "        s = dict_to_latex(s, parser=parse_to_latex)\n",
    "    display(Math(LATEX_FONT_SIZE[size-1]+s))"
   ]
  },
  {
   "cell_type": "code",
   "execution_count": 2,
   "metadata": {},
   "outputs": [
    {
     "data": {
      "text/latex": [
       "$\\displaystyle \\Large\\displaystyle\\frac{}{\\Gamma, \\tau \\vdash \\tau}\\text{ax}$"
      ],
      "text/plain": [
       "<IPython.core.display.Math object>"
      ]
     },
     "metadata": {},
     "output_type": "display_data"
    }
   ],
   "source": [
    "d = Terminal('Gamma, tau |- tau', r'\\text{ax}')\n",
    "math(d)"
   ]
  },
  {
   "cell_type": "code",
   "execution_count": 3,
   "metadata": {},
   "outputs": [
    {
     "data": {
      "text/latex": [
       "$\\displaystyle \\Large\\displaystyle\\frac{\\displaystyle\\frac{}{\\Gamma \\vdash \\tau}\\;\\;\\displaystyle\\frac{}{\\Gamma \\vdash \\sigma}}{\\Gamma \\vdash \\tau \\land \\sigma}\\land_{\\text{i}}$"
      ],
      "text/plain": [
       "<IPython.core.display.Math object>"
      ]
     },
     "metadata": {},
     "output_type": "display_data"
    }
   ],
   "source": [
    "d = Inference({'Gamma |- tau & sigma': {'Γ |- τ': '', 'Γ |- sigma': ''}}, r'\\land_{\\text{i}}')\n",
    "math(d)"
   ]
  },
  {
   "cell_type": "code",
   "execution_count": 4,
   "metadata": {},
   "outputs": [
    {
     "data": {
      "text/latex": [
       "$\\displaystyle \\Large\\displaystyle\\frac{\\Gamma \\vdash \\tau \\land \\sigma}{\\Gamma \\vdash \\tau}\\land_{\\text{e}_1}$"
      ],
      "text/plain": [
       "<IPython.core.display.Math object>"
      ]
     },
     "metadata": {},
     "output_type": "display_data"
    }
   ],
   "source": [
    "d = {'Γ ⊢ τ': 'Γ ⊢ τ ∧ sigma', 'rule': r'\\land_{\\text{e}_1}'}\n",
    "math(d)"
   ]
  },
  {
   "cell_type": "code",
   "execution_count": 5,
   "metadata": {},
   "outputs": [
    {
     "data": {
      "text/latex": [
       "$\\displaystyle \\Large\\displaystyle\\frac{\\Gamma \\vdash \\tau \\land \\sigma}{\\Gamma \\vdash \\sigma}\\land_{\\text{e}_2}$"
      ],
      "text/plain": [
       "<IPython.core.display.Math object>"
      ]
     },
     "metadata": {},
     "output_type": "display_data"
    }
   ],
   "source": [
    "d = {'Gamma ⊢ sigma': 'Gamma ⊢ tau & sigma', 'rule': r'\\land_{\\text{e}_2}'}\n",
    "math(d)"
   ]
  }
 ],
 "metadata": {
  "kernelspec": {
   "display_name": "Python 3",
   "language": "python",
   "name": "python3"
  },
  "language_info": {
   "codemirror_mode": {
    "name": "ipython",
    "version": 3
   },
   "file_extension": ".py",
   "mimetype": "text/x-python",
   "name": "python",
   "nbconvert_exporter": "python",
   "pygments_lexer": "ipython3",
   "version": "3.10.12"
  }
 },
 "nbformat": 4,
 "nbformat_minor": 2
}
